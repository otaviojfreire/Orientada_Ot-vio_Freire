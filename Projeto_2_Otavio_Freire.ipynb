{
 "cells": [
  {
   "cell_type": "code",
   "execution_count": 500,
   "id": "42da73da",
   "metadata": {},
   "outputs": [],
   "source": [
    "from numpy import max,zeros_like,conjugate,matrix, array, linspace, zeros,roots,poly, transpose, eye, block, exp, pi, sqrt, log, roots, real, imag\n",
    "from control.matlab import tf, ss, step, lsim, acker, pole, zero, ss2tf, minreal, ss2tf\n",
    "from control import step_response\n",
    "from matplotlib.pyplot import plot, grid, show, figure, xlabel, ylabel, subplots\n",
    "from scipy.optimize import fsolve\n",
    "from scipy import linalg\n",
    "from numpy.linalg import matrix_rank, det, inv\n",
    "from sympy import Symbol, expand\n",
    "import matplotlib.pyplot as plt\n",
    "import numpy as np\n",
    "import control\n",
    "from math import e\n",
    "\n",
    "\n",
    "import numpy as np\n",
    "import control\n",
    "import control.matlab\n",
    "import math\n",
    "import cmath\n",
    "import matplotlib.pyplot as plt\n",
    "from scipy import linalg\n",
    "import sympy as sp"
   ]
  },
  {
   "cell_type": "code",
   "execution_count": 501,
   "id": "ce1ec4fc",
   "metadata": {},
   "outputs": [
    {
     "name": "stdout",
     "output_type": "stream",
     "text": [
      "2.302585092994046\n"
     ]
    }
   ],
   "source": [
    " ln = np.log  # assign the numpy log function to a new function called ln\n",
    " print(ln(10))"
   ]
  },
  {
   "cell_type": "code",
   "execution_count": null,
   "id": "0fb070f4",
   "metadata": {},
   "outputs": [],
   "source": []
  },
  {
   "cell_type": "code",
   "execution_count": null,
   "id": "eed013f4",
   "metadata": {},
   "outputs": [],
   "source": [
    "\n"
   ]
  },
  {
   "cell_type": "code",
   "execution_count": 502,
   "id": "b3977ad7",
   "metadata": {},
   "outputs": [],
   "source": [
    "\n",
    "tfinal = 6\n",
    "# Definição do sistema\n",
    "A = np.array([[-5, 1],[-45, 0]])\n",
    "B = np.array([[0],[45]])\n",
    "C = np.array([[1, 0]])\n",
    "D = np.array([[0]])"
   ]
  },
  {
   "cell_type": "code",
   "execution_count": 503,
   "id": "8468937c",
   "metadata": {},
   "outputs": [
    {
     "name": "stdout",
     "output_type": "stream",
     "text": [
      "0.06729034514403771\n",
      "6.7290345144037715\n"
     ]
    },
    {
     "data": {
      "text/plain": [
       "array([-2.5+6.2249498j, -2.5-6.2249498j])"
      ]
     },
     "execution_count": 503,
     "metadata": {},
     "output_type": "execute_result"
    },
    {
     "data": {
      "image/png": "[encoded data removed]",
      "text/plain": [
       "<Figure size 432x288 with 1 Axes>"
      ]
     },
     "metadata": {
      "needs_background": "light"
     },
     "output_type": "display_data"
    }
   ],
   "source": [
    "planta = ss(A,B,C,D)\n",
    "s1 = pole(planta)[0]\n",
    "wd = imag(s1)\n",
    "wa = 15 * wd\n",
    "T = 2*pi/wa\n",
    "\n",
    "print(T)\n",
    "\n",
    "tfinal = 100*T\n",
    "print(tfinal)\n",
    "xf,yf= step_response(planta,tfinal)\n",
    "plt.plot(xf,yf)\n",
    "G\n",
    "pole(planta)"
   ]
  },
  {
   "cell_type": "code",
   "execution_count": 504,
   "id": "4fafd782",
   "metadata": {},
   "outputs": [
    {
     "name": "stdout",
     "output_type": "stream",
     "text": [
      "Mp (%) = \n",
      " 28.101838692538156\n"
     ]
    }
   ],
   "source": [
    "# Sobressinal percentual\n",
    "Mp = (max(yf)-yf[-1])/(yf[-1]-yf[0])*100;\n",
    "print(\"Mp (%) = \\n\",Mp)"
   ]
  },
  {
   "cell_type": "code",
   "execution_count": 505,
   "id": "790365e7",
   "metadata": {},
   "outputs": [
    {
     "name": "stdout",
     "output_type": "stream",
     "text": [
      "0.06729034514403771\n",
      "6.7290345144037715\n"
     ]
    }
   ],
   "source": [
    "s1 = pole(planta)[0]\n",
    "wd = imag(s1)\n",
    "wa = 15 * wd\n",
    "T = 2*pi/wa\n",
    "\n",
    "print(T)\n",
    "\n",
    "tfinal = 100*T\n",
    "print(tfinal)"
   ]
  },
  {
   "cell_type": "code",
   "execution_count": 506,
   "id": "c49f0f9f",
   "metadata": {},
   "outputs": [],
   "source": [
    "# simulação com discretização dos integradores\n",
    "# I(z)=T/(z-1)=Xi(z)/Xi_ponto(z)\n",
    "# xi(k)=T*xi_ponto(k-1)+xi(k-1)\n",
    "\n",
    "T = 0.01;\n",
    "tfinal = tfinal;\n",
    "Kmax = int(tfinal/T+1);\n",
    "k = np.linspace(0, Kmax, Kmax+1)\n",
    "u = np.ones(len(k));\n",
    "x1 = np.zeros(len(k));\n",
    "x2 = np.zeros(len(k));\n",
    "x3 = np.zeros(len(k));\n",
    "x1_ponto = np.zeros(len(k));\n",
    "x2_ponto = np.zeros(len(k));\n",
    "x3_ponto = np.zeros(len(k));\n",
    "y = np.zeros(len(k));\n",
    "e = np.zeros(len(k))\n",
    "# condições iniciais (podem ser diferentes de zero)\n",
    "x0 = np.matrix('0; 0');\n",
    "x1[0] = x0[0];  #  para k = 0\n",
    "x2[0] = x0[1];  #  para k = 0\n",
    "\n",
    "x1_ponto[0] = 0;  #  para k = 0\n",
    "x2_ponto[0] = 0;  #  para k = 0\n",
    "y[0] = C[0,0]*x1[0]+C[0,1]*x2[0]+D*u[0];  #  para k = 0\n",
    "e[0] = u[0]-y[0]"
   ]
  },
  {
   "cell_type": "code",
   "execution_count": 507,
   "id": "9ebabf78",
   "metadata": {},
   "outputs": [],
   "source": [
    "for j in range(1,Kmax):\n",
    "    # Equações dos integradores\n",
    "    x1[j]=T*x1_ponto[j-1]+x1[j-1];\n",
    "    x2[j]=T*x2_ponto[j-1]+x2[j-1];    \n",
    "    # Equação diferencial de estados:  Xponto=A*X+B*U\n",
    "    x1_ponto[j]=A[0,0]*x1[j]+A[0,1]*x2[j]+B[0]*u[j];  \n",
    "    x2_ponto[j]=A[1,0]*x1[j]+A[1,1]*x2[j]+B[1]*u[j];   \n",
    "    # Equação de Saída: Y=C*X+D*U\n",
    "    y[j] = C[0,0]*x1[j]+C[0,1]*x2[j]+D*u[j];\n",
    "    e[0] = u[j]-y[j]\n"
   ]
  },
  {
   "cell_type": "code",
   "execution_count": null,
   "id": "1cd89eb0",
   "metadata": {},
   "outputs": [],
   "source": [
    "\n"
   ]
  },
  {
   "cell_type": "code",
   "execution_count": 508,
   "id": "fc7e4fff",
   "metadata": {},
   "outputs": [
    {
     "data": {
      "text/plain": [
       "(0.0, 6.7290345144037715)"
      ]
     },
     "execution_count": 508,
     "metadata": {},
     "output_type": "execute_result"
    },
    {
     "data": {
      "image/png": "[encoded data removed]",
      "text/plain": [
       "<Figure size 432x288 with 1 Axes>"
      ]
     },
     "metadata": {
      "needs_background": "light"
     },
     "output_type": "display_data"
    }
   ],
   "source": [
    "# comportamento do estado x1                       \n",
    "plt.figure()\n",
    "plt.plot(xf,yf,k*T,y,'*')\n",
    "plt.xlim(0,tfinal)"
   ]
  },
  {
   "cell_type": "code",
   "execution_count": 509,
   "id": "86f076e9",
   "metadata": {},
   "outputs": [
    {
     "data": {
      "text/plain": [
       "(0.0, 6.7290345144037715)"
      ]
     },
     "execution_count": 509,
     "metadata": {},
     "output_type": "execute_result"
    },
    {
     "data": {
      "image/png": "[encoded data removed]",
      "text/plain": [
       "<Figure size 432x288 with 1 Axes>"
      ]
     },
     "metadata": {
      "needs_background": "light"
     },
     "output_type": "display_data"
    }
   ],
   "source": [
    "# comportamento do estado x1                       \n",
    "plt.figure()\n",
    "plt.plot(k*T,x1,'*')\n",
    "plt.xlim(0,tfinal)"
   ]
  },
  {
   "cell_type": "code",
   "execution_count": 510,
   "id": "a7e39087",
   "metadata": {},
   "outputs": [
    {
     "data": {
      "text/plain": [
       "(0.0, 6.7290345144037715)"
      ]
     },
     "execution_count": 510,
     "metadata": {},
     "output_type": "execute_result"
    },
    {
     "data": {
      "image/png": "[encoded data removed]",
      "text/plain": [
       "<Figure size 432x288 with 1 Axes>"
      ]
     },
     "metadata": {
      "needs_background": "light"
     },
     "output_type": "display_data"
    }
   ],
   "source": [
    "\n",
    "# comportamento do estado x1                       \n",
    "plt.figure()\n",
    "plt.plot(k*T,x2,'*')\n",
    "plt.xlim(0,tfinal)"
   ]
  },
  {
   "cell_type": "code",
   "execution_count": 511,
   "id": "ddcc7b96",
   "metadata": {},
   "outputs": [
    {
     "name": "stdout",
     "output_type": "stream",
     "text": [
      "wn= 10.0\n",
      "wd= 8.0\n"
     ]
    }
   ],
   "source": [
    "ts5_projeto = 0.5\n",
    "zeta_projeto =0.6\n",
    "wn_projeto = 3/(zeta_projeto*ts5_projeto)\n",
    "print('wn=',wn_projeto)\n",
    "\n",
    "wd_projeto = wn_projeto*np.sqrt(1-zeta_projeto**2)\n",
    "print('wd=',wd_projeto)\n"
   ]
  },
  {
   "cell_type": "code",
   "execution_count": 512,
   "id": "4953a3de",
   "metadata": {
    "scrolled": true
   },
   "outputs": [
    {
     "name": "stdout",
     "output_type": "stream",
     "text": [
      "T= 0.07853981633974483\n"
     ]
    }
   ],
   "source": [
    "T_2 = (2*np.pi)/(10*wd_projeto);\n",
    "print('T=',T_2)"
   ]
  },
  {
   "cell_type": "code",
   "execution_count": 513,
   "id": "9bde5d2f",
   "metadata": {},
   "outputs": [
    {
     "name": "stdout",
     "output_type": "stream",
     "text": [
      "[ -6.+8.j  -6.-8.j -30.+0.j]\n"
     ]
    }
   ],
   "source": [
    "polos_desejados = np.roots([1, 2*zeta_projeto*wn_projeto,  wn_projeto**2])\n",
    "polos_desejados = np.append(polos_desejados,5*np.real(polos_desejados[0]))\n",
    "print(polos_desejados)"
   ]
  },
  {
   "cell_type": "code",
   "execution_count": null,
   "id": "67ef83aa",
   "metadata": {},
   "outputs": [],
   "source": []
  },
  {
   "cell_type": "code",
   "execution_count": 514,
   "id": "6a79d459",
   "metadata": {},
   "outputs": [
    {
     "name": "stdout",
     "output_type": "stream",
     "text": [
      "K_chapeu = [[  5.11111111   0.82222222 -66.66666667]]\n"
     ]
    }
   ],
   "source": [
    "A_chapeu = np.block([[A, np.zeros_like(C.T)],[-C, 0]])\n",
    "B_chapeu = np.block([[B],[0]])\n",
    "K_chapeu = control.acker(A_chapeu, B_chapeu, polos_desejados)\n",
    "K = matrix([[K_chapeu[0,0],K_chapeu[0,1]]])\n",
    "k_i = -K_chapeu[0,2]\n",
    "print('K_chapeu =', K_chapeu)"
   ]
  },
  {
   "cell_type": "code",
   "execution_count": 515,
   "id": "fb440715",
   "metadata": {},
   "outputs": [
    {
     "name": "stdout",
     "output_type": "stream",
     "text": [
      "[[5.11111111 0.82222222]]\n"
     ]
    }
   ],
   "source": [
    "print(K)"
   ]
  },
  {
   "cell_type": "code",
   "execution_count": 516,
   "id": "2e52d15f",
   "metadata": {},
   "outputs": [
    {
     "name": "stdout",
     "output_type": "stream",
     "text": [
      "[[ -5   1   0]\n",
      " [-45   0  45]\n",
      " [ -1   0   0]]\n"
     ]
    }
   ],
   "source": [
    "Matriz_controlabilidade = block([[A, B],[-C, 0]]);\n",
    "print(Matriz_controlabilidade)"
   ]
  },
  {
   "cell_type": "code",
   "execution_count": 517,
   "id": "95f9b9c6",
   "metadata": {},
   "outputs": [
    {
     "name": "stdout",
     "output_type": "stream",
     "text": [
      "[[  5.11111111   0.82222222 -66.66666667]]\n"
     ]
    }
   ],
   "source": [
    "print(K_chapeu)"
   ]
  },
  {
   "cell_type": "code",
   "execution_count": 518,
   "id": "3d4e8541",
   "metadata": {},
   "outputs": [
    {
     "name": "stdout",
     "output_type": "stream",
     "text": [
      "autovalores= [ -6.+8.j  -6.-8.j -30.+0.j]\n"
     ]
    }
   ],
   "source": [
    "autovalores, autovetores = linalg.eig(A_chapeu-B_chapeu*K_chapeu);\n",
    "print('autovalores=',autovalores)"
   ]
  },
  {
   "cell_type": "code",
   "execution_count": 519,
   "id": "c6397947",
   "metadata": {},
   "outputs": [
    {
     "name": "stdout",
     "output_type": "stream",
     "text": [
      "5.111111111111111\n"
     ]
    }
   ],
   "source": [
    "print(K_chapeu[0,0])"
   ]
  },
  {
   "cell_type": "code",
   "execution_count": 520,
   "id": "da57498d",
   "metadata": {},
   "outputs": [
    {
     "data": {
      "text/plain": [
       "[<matplotlib.lines.Line2D at 0x1e24934c2b0>]"
      ]
     },
     "execution_count": 520,
     "metadata": {},
     "output_type": "execute_result"
    },
    {
     "data": {
      "image/png": "[encoded data removed]",
      "text/plain": [
       "<Figure size 432x288 with 1 Axes>"
      ]
     },
     "metadata": {
      "needs_background": "light"
     },
     "output_type": "display_data"
    }
   ],
   "source": [
    "AA = np.block([[A-B*K, B*k_i],[-C, 0]]) \n",
    "BB = matrix([[0],[0],[1]])\n",
    "CC = matrix([[1,0,0]])\n",
    "DD = np.matrix([0])\n",
    "planta_controlada = control.ss(AA, BB, CC, DD)\n",
    "xf,yf = step_response(planta_controlada,tfinal)\n",
    "plt.plot(xf,yf)"
   ]
  },
  {
   "cell_type": "code",
   "execution_count": 521,
   "id": "ffee3f73",
   "metadata": {},
   "outputs": [
    {
     "name": "stdout",
     "output_type": "stream",
     "text": [
      "7.853981633974483\n"
     ]
    }
   ],
   "source": [
    "tfinal = 100*T_2\n",
    "print(tfinal)\n",
    "\n",
    "# Signal init\n",
    "K = K\n",
    "ki = k_i\n",
    "Kmax = int(tfinal/T+1)\n",
    "tamanho = Kmax+1\n",
    "k = np.linspace(0, Kmax, tamanho)\n",
    "ref = np.ones(len(k))\n",
    "\n",
    "\n",
    "n = A.shape[0]\n",
    "X = np.empty((tamanho, n))\n",
    "X_ponto = np.empty((tamanho, n))\n",
    "y = np.empty(tamanho)\n",
    "erro = np.empty(tamanho)\n",
    "u = np.empty(tamanho)\n",
    "qsi = np.empty(tamanho)\n",
    "\n",
    "# Unroll first iterations\n",
    "j=0\n",
    "condicao_inicial = matrix([[0],[0],[0]])\n",
    "X[j, :] = condicao_inicial.T[:, :-1]\n",
    "X_ponto[j, :] = np.zeros(n)\n",
    "qsi[0] = condicao_inicial.T[:, -1]\n",
    "u[0] = -(K[0,0]*X[0, 0]+K[0,1]*X[0, 1])+ki*qsi[0]\n",
    "y[0] = C*np.matrix(X[0, :]).T + D*u[0]\n",
    "erro[0] = ref[0]-y[0]\n",
    "\n",
    "    # Simulate all\n",
    "for j in range(1,Kmax+1):\n",
    "    X[j, :] = T*X_ponto[j-1, :] + X[j-1, :]\n",
    "    qsi[j] = T*erro[j-1]+qsi[j-1]\n",
    "    u[j] = -(K[0,0]*X[j, 0]+K[0,1]*X[j, 1])+ki*qsi[j]\n",
    "    X_ponto[j, :] = (A*np.matrix(X[j, :]).T + B*u[j]).T\n",
    "    y[j] = C*np.matrix(X[j, :]).T + D*u[j]\n",
    "    erro[j] = ref[j]-y[j] "
   ]
  },
  {
   "cell_type": "code",
   "execution_count": 522,
   "id": "fe36e966",
   "metadata": {},
   "outputs": [
    {
     "data": {
      "text/plain": [
       "[<matplotlib.lines.Line2D at 0x1e24ac4f700>]"
      ]
     },
     "execution_count": 522,
     "metadata": {},
     "output_type": "execute_result"
    },
    {
     "data": {
      "image/png": "[encoded data removed]",
      "text/plain": [
       "<Figure size 432x288 with 1 Axes>"
      ]
     },
     "metadata": {
      "needs_background": "light"
     },
     "output_type": "display_data"
    }
   ],
   "source": [
    "plt.plot(k*T,y)"
   ]
  },
  {
   "cell_type": "code",
   "execution_count": null,
   "id": "10d86ab1",
   "metadata": {},
   "outputs": [],
   "source": []
  },
  {
   "cell_type": "code",
   "execution_count": null,
   "id": "785971e0",
   "metadata": {},
   "outputs": [],
   "source": [
    "\n"
   ]
  },
  {
   "cell_type": "code",
   "execution_count": 523,
   "id": "05916a99",
   "metadata": {},
   "outputs": [
    {
     "name": "stdout",
     "output_type": "stream",
     "text": [
      "Matriz de observalidade=\n",
      "[[ 1. -5.]\n",
      " [ 0.  1.]]\n",
      "Rank=\n",
      "2\n"
     ]
    }
   ],
   "source": [
    "N = control.obsv(planta.A, planta.C).T\n",
    "print('Matriz de observalidade=')\n",
    "print(N)\n",
    "print('Rank=')\n",
    "print(np.linalg.matrix_rank(N))\n",
    "\n"
   ]
  },
  {
   "cell_type": "code",
   "execution_count": 524,
   "id": "cddfc996",
   "metadata": {},
   "outputs": [
    {
     "name": "stdout",
     "output_type": "stream",
     "text": [
      "Ke = [[ 7.]\n",
      " [55.]]\n"
     ]
    }
   ],
   "source": [
    "\n",
    "\n",
    "polos_desejados = (np.roots([1, 2*zeta_projeto*wn_projeto,  wn_projeto**2]))\n",
    "\n",
    "# Projeto\n",
    "K_observador = control.acker(np.conjugate(A.T), np.conjugate(C.T), polos_desejados).T;\n",
    "print('Ke =', K_observador)\n",
    "AA = np.block([[A, np.zeros_like(A)],[K_observador*C, A-K_observador*C]]);\n",
    "BB = np.block([[B],[B]]);\n",
    "CC = np.matrix([[1, 0, 0, 0], [0, 0, 0, 0], [0, 0, 1, 0], [0, 0, 0, 0]]);\n",
    "DD = np.zeros([2*len(A),1]);\n",
    "observador = control.ss(AA, BB, CC, DD)\n",
    "\n",
    "t = np.linspace(0, tfinal, 1000)\n",
    "u = np.ones(len(t))\n",
    "Y, t, X = control.matlab.lsim(observador, u, t, np.matrix([[0], [0], [0], [0]]))\n"
   ]
  },
  {
   "cell_type": "code",
   "execution_count": 525,
   "id": "ee1bd807",
   "metadata": {},
   "outputs": [
    {
     "data": {
      "image/png": "[encoded data removed]",
      "text/plain": [
       "<Figure size 1008x288 with 2 Axes>"
      ]
     },
     "metadata": {
      "needs_background": "light"
     },
     "output_type": "display_data"
    },
    {
     "data": {
      "image/png": "[encoded data removed]",
      "text/plain": [
       "<Figure size 1008x288 with 2 Axes>"
      ]
     },
     "metadata": {
      "needs_background": "light"
     },
     "output_type": "display_data"
    },
    {
     "data": {
      "image/png": "[encoded data removed]",
      "text/plain": [
       "<Figure size 1008x288 with 2 Axes>"
      ]
     },
     "metadata": {
      "needs_background": "light"
     },
     "output_type": "display_data"
    },
    {
     "data": {
      "image/png": "[encoded data removed]",
      "text/plain": [
       "<Figure size 1008x288 with 2 Axes>"
      ]
     },
     "metadata": {
      "needs_background": "light"
     },
     "output_type": "display_data"
    }
   ],
   "source": [
    "passo = int(X.shape[1]/2)\n",
    "for j in range(0, passo):\n",
    "    plt.subplots(1,2, figsize=(14, 4))\n",
    "    plt.subplot(1,2,1)\n",
    "    plt.plot(t, X[:, j])\n",
    "    plt.subplot(1,2,2)\n",
    "    plt.plot(t, X[:, j+passo])\n",
    "        \n",
    "passo = int(Y.shape[1]/2)\n",
    "for j in range(0, passo):\n",
    "    plt.subplots(1,2, figsize=(14, 4))\n",
    "    plt.subplot(1,2,1)\n",
    "    plt.plot(t, Y[:, j])\n",
    "    plt.subplot(1,2,2)\n",
    "    plt.plot(t, Y[:, j+passo])"
   ]
  },
  {
   "cell_type": "code",
   "execution_count": 526,
   "id": "67d45f02",
   "metadata": {},
   "outputs": [
    {
     "data": {
      "text/plain": [
       "[<matplotlib.lines.Line2D at 0x1e24b4490a0>]"
      ]
     },
     "execution_count": 526,
     "metadata": {},
     "output_type": "execute_result"
    },
    {
     "data": {
      "image/png": "[encoded data removed]",
      "text/plain": [
       "<Figure size 432x288 with 1 Axes>"
      ]
     },
     "metadata": {
      "needs_background": "light"
     },
     "output_type": "display_data"
    }
   ],
   "source": [
    "AA = np.block([[A, B*ki, -B*K],[-C, 0, np.zeros((1,2))], [K_observador*C, B*ki, A-B*K-K_observador*C]])\n",
    "BB = np.block([[np.zeros((2,1))], [1], [np.zeros((2,1))]])\n",
    "CC = np.block([[C, 0, np.zeros((1,2))]])\n",
    "DD = np.matrix([0])\n",
    "\n",
    "controlador_observador= control.ss(AA, BB, CC, DD)\n",
    "x_cont_obs,y_cont_obs = step_response(controlador_observador,tfinal)\n",
    "\n",
    "plt.plot(x_cont_obs,y_cont_obs)"
   ]
  },
  {
   "cell_type": "code",
   "execution_count": 527,
   "id": "5efc9205",
   "metadata": {},
   "outputs": [],
   "source": [
    "T = T\n",
    "# Signal init\n",
    "K = K\n",
    "ki = k_i\n",
    "    \n",
    "A = planta.A\n",
    "B = planta.B\n",
    "C = planta.C\n",
    "D = planta.D\n",
    "n = A.shape[0]\n",
    "\n",
    "Kmax = int(tfinal/T+1)\n",
    "index_max = Kmax+1\n",
    "k = np.linspace(0, Kmax, index_max)\n",
    "ref = np.ones(len(k))\n",
    "\n",
    "A = planta.A\n",
    "B = planta.B\n",
    "C = planta.C\n",
    "D = planta.D\n",
    "\n",
    "n = A.shape[0]\n",
    "X = np.empty((index_max, n))\n",
    "X_ponto = np.empty((index_max, n))\n",
    "X_obs = np.empty((index_max, n))\n",
    "X_ponto_obs = np.empty((index_max, n))\n",
    "y = np.empty(index_max)\n",
    "y_obs = np.empty(index_max)\n",
    "erro = np.empty(index_max)\n",
    "u = np.empty(index_max)\n",
    "qsi = np.empty(index_max)\n",
    "\n",
    "# Unroll first iterations\n",
    "j=0\n",
    "condicao_inicial = np.matrix([[0], [0], [0], [0], [0]])\n",
    "X[j, :] = condicao_inicial.T[:, :n]\n",
    "X_obs[j, :] = condicao_inicial.T[:, n:n*2]\n",
    "X_ponto[j, :] = np.zeros(n)\n",
    "X_ponto_obs[j, :] = np.zeros(n)\n",
    "qsi[j] = condicao_inicial.T[:, -1]\n",
    "u[0] = -(K[0,0]*X[j, 0]+K[0,1]*X[j, 1])+ki*qsi[j]\n",
    "y[j] = C*np.matrix(X[j, :]).T + D*u[j]\n",
    "y_obs[j] = C*np.matrix(X[j, :]).T + D*u[j]\n",
    "erro[j] = ref[j]-y[j]\n",
    "\n",
    "# Simulate all\n",
    "for j in range(1,Kmax+1):\n",
    "    X[j, :] = T*X_ponto[j-1, :] + X[j-1, :]\n",
    "    X_obs[j, :] = T*X_ponto_obs[j-1, :] + X_obs[j-1, :]\n",
    "    qsi[j] = T*erro[j-1]+qsi[j-1]\n",
    "    u[j] = -(K[0,0]*X[j, 0]+K[0,1]*X[j, 1])+ki*qsi[j] #shoudl K*X be matricial?\n",
    "    X_ponto[j, :] = (A*np.matrix(X[j, :]).T + B*u[j]).T\n",
    "    y[j] = C*np.matrix(X[j, :]).T + D*u[j]\n",
    "    y_obs[j] = C*np.matrix(X_obs[j, :]).T + D*u[j]\n",
    "    erro[j] = ref[j]-y[j] \n",
    "    X_ponto_obs[j, :] = (A*np.matrix(X[j, :]).T + B*u[j]).T + np.matrix(K_observador*(y[j]-y_obs[j])).T\n",
    "\n",
    "\n"
   ]
  },
  {
   "cell_type": "code",
   "execution_count": 528,
   "id": "911c22db",
   "metadata": {},
   "outputs": [
    {
     "data": {
      "text/plain": [
       "[<matplotlib.lines.Line2D at 0x1e24b4b32b0>]"
      ]
     },
     "execution_count": 528,
     "metadata": {},
     "output_type": "execute_result"
    },
    {
     "data": {
      "image/png": "[encoded data removed]",
      "text/plain": [
       "<Figure size 432x288 with 1 Axes>"
      ]
     },
     "metadata": {
      "needs_background": "light"
     },
     "output_type": "display_data"
    }
   ],
   "source": [
    "plt.plot(k*T,y,'*')\n",
    "    \n"
   ]
  },
  {
   "cell_type": "code",
   "execution_count": 529,
   "id": "f163138f",
   "metadata": {},
   "outputs": [
    {
     "name": "stdout",
     "output_type": "stream",
     "text": [
      "Mp (%) = \n",
      " 11.01955728963567\n"
     ]
    }
   ],
   "source": [
    "# Sobressinal percentual\n",
    "Mp = (max(y)-y[-1])/(y[-1]-y[0])*100;\n",
    "print(\"Mp (%) = \\n\",Mp)"
   ]
  },
  {
   "cell_type": "code",
   "execution_count": 530,
   "id": "0bb7991d",
   "metadata": {},
   "outputs": [
    {
     "name": "stdout",
     "output_type": "stream",
     "text": [
      "ts = \n",
      " 0.1\n"
     ]
    }
   ],
   "source": [
    "tempo_esperado = 0.1\n",
    "Kmax = int(tempo_esperado/T+1)\n",
    "j = Kmax-1;\n",
    "delta = 0;\n",
    "while (delta < 0.05):\n",
    "    delta = abs((y[j]-y[-1])/y[-1]);\n",
    "    ts = T*k[j];\n",
    "    j = j-1;\n",
    "    \n",
    "print(\"ts = \\n\",ts)"
   ]
  },
  {
   "cell_type": "code",
   "execution_count": null,
   "id": "cbffc3a1",
   "metadata": {},
   "outputs": [],
   "source": []
  },
  {
   "cell_type": "code",
   "execution_count": 531,
   "id": "d063281c",
   "metadata": {},
   "outputs": [
    {
     "name": "stdout",
     "output_type": "stream",
     "text": [
      "erro regime permanente= 0\n"
     ]
    }
   ],
   "source": [
    "I = np.eye(2);\n",
    "\n",
    "\n",
    "s = sp.symbols('s');\n",
    "# entrada do tipo degrau\n",
    "R = 1/s;\n",
    "\n",
    "A = sp.Matrix(A);\n",
    "B = sp.Matrix(B);\n",
    "C = sp.Matrix(C);\n",
    "\n",
    "M = C*((s*I-A)**-1)*B;\n",
    "ess = sp.limit(s*R*(1-M[0]),s,0)\n",
    "print('erro regime permanente=',ess)"
   ]
  },
  {
   "cell_type": "code",
   "execution_count": null,
   "id": "54df1b6e",
   "metadata": {},
   "outputs": [],
   "source": []
  }
 ],
 "metadata": {
  "kernelspec": {
   "display_name": "Python 3 (ipykernel)",
   "language": "python",
   "name": "python3"
  },
  "language_info": {
   "codemirror_mode": {
    "name": "ipython",
    "version": 3
   },
   "file_extension": ".py",
   "mimetype": "text/x-python",
   "name": "python",
   "nbconvert_exporter": "python",
   "pygments_lexer": "ipython3",
   "version": "3.9.12"
  }
 },
 "nbformat": 4,
 "nbformat_minor": 5
}
